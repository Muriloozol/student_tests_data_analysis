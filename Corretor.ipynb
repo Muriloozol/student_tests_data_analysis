{
 "cells": [
  {
   "cell_type": "markdown",
   "metadata": {},
   "source": [
    "# Importing all necessary data\n",
    " ### Explaning the data\n",
    "> - **organized_data.csv**: This file is the output of the code genereted by matrix for the correction tests correction\n",
    "\n",
    "| nome      | cpf | idioma | cota | 1 | 2 | 3 | ... | 100 |\n",
    "| --------- | --- | -------|------|---| - | - | --- | --- |\n",
    "| Murilo Muniz Ozol      | 108.332.329-67  | ingles | cota_less1,5_Outros | A | B |B|...|E|\n",
    "| Bruno Costa Martins   |  123.456.789-09  | espanhol | n_optante | A | B |B|...|E|\n",
    "\n",
    "> - **gabarito.csv**: This file is the output of the work made by Hogwarts and teachers\n",
    "\n",
    "|questao |\tgabarito_ingles | gabarito_espanhol\t| Matéria | Dificuldade esperada |\n",
    "| ------ | ---------------- | ------------------|---------|----------------------|\n",
    "|   1    |         a        |         c         | idioma  |        Fácil         |\n",
    "|   2    |         a        |         d         | Física  |        Difícil       |\n",
    "|   3    |         a        |         e         | idioma  |        Média         |\n",
    "\n"
   ]
  },
  {
   "cell_type": "code",
   "execution_count": 1,
   "metadata": {},
   "outputs": [],
   "source": [
    "import pandas as pd\n",
    "import matplotlib.pyplot as plt\n",
    "import seaborn as sns\n",
    "from jinja2 import Environment"
   ]
  },
  {
   "cell_type": "code",
   "execution_count": 2,
   "metadata": {},
   "outputs": [],
   "source": [
    "year = '2019'\n",
    "test = 'Enem'\n",
    "version = 'v1'\n",
    "\n",
    "data = pd.read_csv('{0}_{1}_{2}/organized_data.csv'.format(test, year, version))\n",
    "questions = pd.read_csv('{0}_{1}_{2}/gabarito.csv'.format(test, year, version), index_col=0)"
   ]
  },
  {
   "cell_type": "code",
   "execution_count": 3,
   "metadata": {},
   "outputs": [],
   "source": [
    "####################### FUNCTIONS USED IN THIS SHIT ###############################\n",
    "def clearParam(Param):\n",
    "    cleanParam = Param.strip().capitalize()\n",
    "    return cleanParam\n",
    "\n",
    "def clearQuestionsDB(questions):\n",
    "    \"\"\"This function arrange the data come from Hogwarts in a way it can be used by this code\"\"\"\n",
    "    # Clean the text: uppercase, remove spaces and others\n",
    "    cleanEnglish = questions.loc[:,'gabarito_ingles'].str.upper().str.strip()\n",
    "    cleanSpanish = questions.loc[:,'gabarito_espanhol'].str.upper().str.strip()\n",
    "    cleanSubject = questions.loc[:,'Materia'].str.strip().str.capitalize()\n",
    "    cleanDificulty = questions.loc[:,'Dificuldade esperada'].str.strip().str.capitalize()\n",
    "    \n",
    "    # Update the DataFrame\n",
    "    questions.update(cleanEnglish)\n",
    "    questions.update(cleanSpanish)\n",
    "    questions.update(cleanSubject)\n",
    "    questions.update(cleanDificulty)\n",
    "    \n",
    "    # Just change the variable name \n",
    "    questionsClean = questions\n",
    "    \n",
    "    return questionsClean\n",
    "\n",
    "def generateTrueFalseDF(data, questionsClean):\n",
    "    \"\"\"This funcion compare the data and the feedback and return a pandas DataFrame with the score of each question\"\"\"\n",
    "    \n",
    "    # Series with the correct answer for the each languege\n",
    "    englishCorrectAnswer = questionsClean.loc[:,'gabarito_ingles']\n",
    "    spanishCorrectAnswer = questionsClean.loc[:,'gabarito_espanhol']\n",
    "    \n",
    "    # Groups divided between languege\n",
    "    englishGroup = data.loc[data.idioma == 'ingles']\n",
    "    spanishGroup = data.loc[data.idioma == 'espanhol']\n",
    "    \n",
    "    # DataFrame with just the student info\n",
    "    englishStudentInfo = englishGroup.iloc[:,:englishGroup.columns.get_loc('1')]\n",
    "    spanishStudentInfo = spanishGroup.iloc[:,:englishGroup.columns.get_loc('1')]\n",
    "    \n",
    "    # DataFrame without the student info\n",
    "    englishAnswers = englishGroup.loc[:,'1':]\n",
    "    spanishAnswers = spanishGroup.loc[:,'1':]\n",
    "    \n",
    "    # Fixing the axis for the \".eq()\" funcion works\n",
    "    englishCorrectAnswer.set_axis(englishAnswers.columns, inplace=True)\n",
    "    spanishCorrectAnswer.set_axis(spanishAnswers.columns, inplace=True)\n",
    "    \n",
    "    # DataFrame with true and false for each group\n",
    "    englishCorrection = englishAnswers.eq(englishCorrectAnswer)\n",
    "    spanishCorrection = spanishAnswers.eq(spanishCorrectAnswer)\n",
    "    \n",
    "    # Join the groups of language and the student info into a DF\n",
    "    englishStudentInfo = englishStudentInfo.join(englishCorrection)\n",
    "    spanishStudentInfo = spanishStudentInfo.join(spanishCorrection)\n",
    "    \n",
    "    # Merge the two DF\n",
    "    data = englishStudentInfo.append(spanishStudentInfo)\n",
    "    \n",
    "    #data = data.set_index('cpf')\n",
    "    \n",
    "    return data "
   ]
  },
  {
   "cell_type": "code",
   "execution_count": 4,
   "metadata": {},
   "outputs": [],
   "source": [
    "class Stats():\n",
    "    \"\"\"\n",
    "    Generate all the stats for a test\n",
    "    \"\"\"\n",
    "    \n",
    "    def __init__(self, test='Enem', year='2019', version='v1'):\n",
    "        \"\"\"Load the test data. The user defines the test\"\"\"\n",
    "        \n",
    "        # Imports\n",
    "        data = pd.read_csv('{0}_{1}_{2}/organized_data.csv'.format(test, year, version), index_col='cpf')\n",
    "        questions = pd.read_csv('{0}_{1}_{2}/gabarito.csv'.format(test, year, version), index_col=0)\n",
    "        \n",
    "        # Atributes\n",
    "        self.data = data\n",
    "        self.questions = clearQuestionsDB(questions)\n",
    "        self.trueFalseData = generateTrueFalseDF(data, self.questions)\n",
    "        self.info = [self.questions, self.trueFalseData]\n",
    "    \n",
    "    def filtering(self, subject=None, difficulty=None, idiom=None, quota=None):\n",
    "        filtered = filtering(self.trueFalseData, self.questions, subject,  difficulty, idiom, quota).filtering()\n",
    "        \n",
    "        return filtered\n",
    "    \n",
    "    def filteringBruteData(self, subject=None, difficulty=None, idiom=None, quota=None):\n",
    "        filtered = filtering(self.data, self.questions, subject,  difficulty, idiom, quota).filtering()\n",
    "        \n",
    "        return filtered\n",
    "        "
   ]
  },
  {
   "cell_type": "code",
   "execution_count": 5,
   "metadata": {},
   "outputs": [],
   "source": [
    "class filtering():\n",
    "    \"\"\"Filtering the data (making Sant'helena happy)\"\"\"\n",
    "    \n",
    "    def __init__(self, trueFalseData, questions, subject, difficulty, idiom, quota):\n",
    "        \n",
    "        self.trueFalseData = trueFalseData\n",
    "        self.questions = questions\n",
    "        \n",
    "        self.subject = subject\n",
    "        self.difficulty = difficulty\n",
    "        self.idiom = idiom\n",
    "        self.quota = quota\n",
    "        \n",
    "    \n",
    "    def filtering(self):\n",
    "        \n",
    "        self.questions = self.questions.groupby('Materia').get_group(self.subject) if self.subject!=None else self.questions\n",
    "        self.questions = self.questions.groupby('Dificuldade esperada').get_group(self.difficulty) if self.difficulty!=None else self.questions\n",
    "        self.trueFalseData = self.trueFalseData.groupby('idioma').get_group(self.idiom) if self.idiom!=None else self.trueFalseData\n",
    "        self.trueFalseData = self.trueFalseData.groupby('cota').get_group(self.quota) if self.quota!=None else self.trueFalseData\n",
    "        \n",
    "        questionsNumber = self.questions.index.format()\n",
    "        questionsNumber = pd.Series(questionsNumber).str.strip()\n",
    "        dataBy = self.trueFalseData[questionsNumber]\n",
    "        \n",
    "        return dataBy\n",
    "    "
   ]
  },
  {
   "cell_type": "code",
   "execution_count": 6,
   "metadata": {},
   "outputs": [],
   "source": [
    "class subjectReport():\n",
    "    \"\"\"\n",
    "    Doc\n",
    "    \"\"\"\n",
    "    def __init__(self, subject, stats):\n",
    "        self.subject = subject\n",
    "        self.questions = stats.filtering(subject=subject)\n",
    "        self.data = stats.filteringBruteData(subject=subject)\n",
    "    \n",
    "    def score_by_question(self, questionNumber):\n",
    "        \n",
    "        return self.questions.iloc[:,questionNumber-1].value_counts()\n",
    "\n",
    "    def answers_by_question(self, questionNumber):\n",
    "        \n",
    "        return self.data.iloc[:,questionNumber-1].value_counts().sort_index()"
   ]
  },
  {
   "cell_type": "code",
   "execution_count": 7,
   "metadata": {},
   "outputs": [],
   "source": [
    "class studentReport():\n",
    "    \n",
    "    def __init__(self, cpf, stats):\n",
    "        self.cpf = cpf\n",
    "        self.stats = stats\n",
    "        self.subjects = stats.questions['Materia'].unique()\n",
    "        self.dictGrades = {}\n",
    "             \n",
    "    @property    \n",
    "    def answers(self):       \n",
    "        data = self.stats.data\n",
    "        studentData = pd.DataFrame(data.loc[self.cpf]).T\n",
    "        studenteAnswers = studentData.loc[:,'1':]\n",
    "        \n",
    "        return studenteAnswers\n",
    "    \n",
    "    @property\n",
    "    def grades(self):\n",
    "        for subject in self.subjects:\n",
    "            filtered = enem.filtering(subject)\n",
    "            grade = filtered.loc[self.cpf].value_counts()\n",
    "            self.dictGrades[subject] = grade[True]\n",
    "            \n",
    "        return self.dictGrades\n",
    "        "
   ]
  },
  {
   "cell_type": "code",
   "execution_count": 8,
   "metadata": {},
   "outputs": [],
   "source": [
    "enem =Stats()"
   ]
  },
  {
   "cell_type": "code",
   "execution_count": 15,
   "metadata": {},
   "outputs": [],
   "source": [
    "student = studentReport('Cpf 50',enem)"
   ]
  },
  {
   "cell_type": "code",
   "execution_count": 16,
   "metadata": {},
   "outputs": [],
   "source": [
    "biologia = subjectReport(subject='Matematica',stats = enem)"
   ]
  },
  {
   "cell_type": "code",
   "execution_count": 17,
   "metadata": {},
   "outputs": [],
   "source": [
    "acertos = pd.DataFrame(index=student.grades.keys(),\n",
    "             data=student.grades.values(),\n",
    "             columns=['Acertos'])"
   ]
  },
  {
   "cell_type": "markdown",
   "metadata": {},
   "source": [
    "## Templating with Jinja2\n",
    "\n",
    "Here is the basics components we're going to use:\n",
    "- **string_tamplate :** It's a string containing the text/html with tags showing where it's expected a variable\n",
    "- **template = Enviroment() :** It's the main object of Jinja2\n",
    "- **context = {} :** It's a Dict where the keys are the variable name (the same ones contained in string_tamplate) and the values are the replacement variable\n",
    "\n",
    "```\n",
    "string_tamplate = \"\"\" \n",
    "Hello, {{ name }}! How are you?\n",
    "That is a simples template and I will list some things:\n",
    "{% for word in words %}\n",
    "> {{ word }}\n",
    "{% endfor %}\n",
    "\"\"\"\n",
    "template = Environment().from_string(source=string_template) \n",
    "context = {\n",
    "    'name' : 'Genious',\n",
    "    'words' : [\n",
    "        'Pizza',\n",
    "        'Data',\n",
    "        'Storytelling',\n",
    "        'Exploratory Data Analysis',\n",
    "    ],\n",
    "}\n",
    "\n",
    "rendered = template.render(context)\n",
    "```"
   ]
  },
  {
   "cell_type": "code",
   "execution_count": 18,
   "metadata": {},
   "outputs": [],
   "source": [
    "string_template = \"\"\"\n",
    "Nome:{{name}}\n",
    "CPF: {{cpf}}\n",
    "\n",
    "Idioma: {{Idiom}}\n",
    "PAA: {{quota}}\n",
    "\n",
    "Desempenho por Matéria\n",
    "{% for materia in materias%}\n",
    "> {{materia}}\n",
    "{%endfor%}\n",
    "\n",
    "\n",
    "\"\"\""
   ]
  },
  {
   "cell_type": "code",
   "execution_count": null,
   "metadata": {},
   "outputs": [],
   "source": [
    "template = Environment().from_string(source=string_template)"
   ]
  },
  {
   "cell_type": "code",
   "execution_count": 147,
   "metadata": {},
   "outputs": [],
   "source": [
    "context = {\n",
    "    'name':'Murilo',\n",
    "    'cpf':'Cpf 5',\n",
    "    'materias' : ['ingles',u'matemática', 'biologia'],\n",
    "}"
   ]
  },
  {
   "cell_type": "code",
   "execution_count": 148,
   "metadata": {},
   "outputs": [
    {
     "data": {
      "text/plain": [
       "u'\\nNome:Murilo\\nCPF: 108.332.329-67\\n\\nIdioma: \\nPAA: \\n\\nDesempenho por Mat\\xe9ria\\n\\n> ingles\\n\\n> matem\\xe1tica\\n\\n> biologia\\n\\n\\n'"
      ]
     },
     "execution_count": 148,
     "metadata": {},
     "output_type": "execute_result"
    }
   ],
   "source": [
    "template.render(context)"
   ]
  },
  {
   "cell_type": "code",
   "execution_count": null,
   "metadata": {},
   "outputs": [],
   "source": []
  }
 ],
 "metadata": {
  "kernelspec": {
   "display_name": "Python 3",
   "language": "python",
   "name": "python3"
  },
  "language_info": {
   "codemirror_mode": {
    "name": "ipython",
    "version": 2
   },
   "file_extension": ".py",
   "mimetype": "text/x-python",
   "name": "python",
   "nbconvert_exporter": "python",
   "pygments_lexer": "ipython2",
   "version": "2.7.15+"
  }
 },
 "nbformat": 4,
 "nbformat_minor": 2
}
