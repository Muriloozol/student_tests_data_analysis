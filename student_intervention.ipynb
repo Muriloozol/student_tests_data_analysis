{
  "nbformat": 4,
  "nbformat_minor": 0,
  "metadata": {
    "kernelspec": {
      "display_name": "geam",
      "language": "python",
      "name": "geam"
    },
    "language_info": {
      "codemirror_mode": {
        "name": "ipython",
        "version": 3
      },
      "file_extension": ".py",
      "mimetype": "text/x-python",
      "name": "python",
      "nbconvert_exporter": "python",
      "pygments_lexer": "ipython3",
      "version": "3.6.9"
    },
    "colab": {
      "name": "student_intervention.ipynb",
      "provenance": [],
      "collapsed_sections": [],
      "include_colab_link": true
    }
  },
  "cells": [
    {
      "cell_type": "markdown",
      "metadata": {
        "id": "view-in-github",
        "colab_type": "text"
      },
      "source": [
        "<a href=\"https://colab.research.google.com/github/Muriloozol/student_tests_data_analysis/blob/master/student_intervention.ipynb\" target=\"_parent\"><img src=\"https://colab.research.google.com/assets/colab-badge.svg\" alt=\"Open In Colab\"/></a>"
      ]
    },
    {
      "cell_type": "markdown",
      "metadata": {
        "id": "y5qd1wADQ0Dq",
        "colab_type": "text"
      },
      "source": [
        "# Machine Learning Engineer Nanodegree\n",
        "## Supervised Learning\n",
        "## Project: Building a Student Intervention System\n",
        "\n",
        "\n",
        "### ***Bruno Martins, Helena Borges and Murilo Ozol***"
      ]
    },
    {
      "cell_type": "markdown",
      "metadata": {
        "id": "lTvBVB4oQ0Dt",
        "colab_type": "text"
      },
      "source": [
        "# Project Description\n",
        "\n",
        "A local school district has a goal to reach a 95% graduation rate by the end of the decade by identifying students who need intervention before they drop out of school. As a software engineer contacted by the school district, your task is to model the factors that predict how likely a student is to pass their high school final exam, by constructing an intervention system that leverages supervised learning techniques. The board of supervisors has asked that you find the most effective model that uses the least amount of computation costs to save on the budget. You will need to analyze the dataset on students' performance and develop a model that will predict the likelihood that a given student will pass, quantifying whether an intervention is necessary."
      ]
    },
    {
      "cell_type": "markdown",
      "metadata": {
        "id": "EwhakNn9Q0Du",
        "colab_type": "text"
      },
      "source": [
        "### Question 1 - Classification vs. Regression\n",
        "*Your goal for this project is to identify students who might need early intervention before they fail to graduate. Which type of supervised learning problem is this, classification or regression? Why?*"
      ]
    },
    {
      "cell_type": "markdown",
      "metadata": {
        "id": "tYtxXVeuQ0Dw",
        "colab_type": "text"
      },
      "source": [
        "**Answer:** It's a classification algorithm, because we want to predict if a given student will \"pass\" or \"fail\", according to the likelihood."
      ]
    },
    {
      "cell_type": "markdown",
      "metadata": {
        "id": "iyzQodRAQ0Dx",
        "colab_type": "text"
      },
      "source": [
        "## Exploring the Data\n",
        "\n",
        "First we need to import all the libraries that we will use for our project.\n",
        "The last column from the dataset, `'passed'`, will be our target label (whether the student graduated or didn't graduate). All other columns are features about each student."
      ]
    },
    {
      "cell_type": "code",
      "metadata": {
        "id": "wPQVrcBvQ0Dy",
        "colab_type": "code",
        "outputId": "d75d2150-4a0c-4b05-c822-e0b357d4c614",
        "colab": {
          "base_uri": "https://localhost:8080/",
          "height": 226
        }
      },
      "source": [
        "# Import libraries\n",
        "import numpy as np\n",
        "import pandas as pd\n",
        "from time import time\n",
        "from sklearn.metrics import f1_score\n",
        "from sklearn.model_selection import train_test_split\n",
        "from sklearn.preprocessing import LabelEncoder\n",
        "\n",
        "\n",
        "# Read student data\n",
        "student_data = pd.read_csv(\"student-data.csv\")\n",
        "student_data.head()"
      ],
      "execution_count": 0,
      "outputs": [
        {
          "output_type": "execute_result",
          "data": {
            "text/html": [
              "<div>\n",
              "<style scoped>\n",
              "    .dataframe tbody tr th:only-of-type {\n",
              "        vertical-align: middle;\n",
              "    }\n",
              "\n",
              "    .dataframe tbody tr th {\n",
              "        vertical-align: top;\n",
              "    }\n",
              "\n",
              "    .dataframe thead th {\n",
              "        text-align: right;\n",
              "    }\n",
              "</style>\n",
              "<table border=\"1\" class=\"dataframe\">\n",
              "  <thead>\n",
              "    <tr style=\"text-align: right;\">\n",
              "      <th></th>\n",
              "      <th>school</th>\n",
              "      <th>sex</th>\n",
              "      <th>age</th>\n",
              "      <th>address</th>\n",
              "      <th>famsize</th>\n",
              "      <th>Pstatus</th>\n",
              "      <th>Medu</th>\n",
              "      <th>Fedu</th>\n",
              "      <th>Mjob</th>\n",
              "      <th>Fjob</th>\n",
              "      <th>reason</th>\n",
              "      <th>guardian</th>\n",
              "      <th>traveltime</th>\n",
              "      <th>studytime</th>\n",
              "      <th>failures</th>\n",
              "      <th>schoolsup</th>\n",
              "      <th>famsup</th>\n",
              "      <th>paid</th>\n",
              "      <th>activities</th>\n",
              "      <th>nursery</th>\n",
              "      <th>higher</th>\n",
              "      <th>internet</th>\n",
              "      <th>romantic</th>\n",
              "      <th>famrel</th>\n",
              "      <th>freetime</th>\n",
              "      <th>goout</th>\n",
              "      <th>Dalc</th>\n",
              "      <th>Walc</th>\n",
              "      <th>health</th>\n",
              "      <th>absences</th>\n",
              "      <th>passed</th>\n",
              "    </tr>\n",
              "  </thead>\n",
              "  <tbody>\n",
              "    <tr>\n",
              "      <th>0</th>\n",
              "      <td>GP</td>\n",
              "      <td>F</td>\n",
              "      <td>18</td>\n",
              "      <td>U</td>\n",
              "      <td>GT3</td>\n",
              "      <td>A</td>\n",
              "      <td>4</td>\n",
              "      <td>4</td>\n",
              "      <td>at_home</td>\n",
              "      <td>teacher</td>\n",
              "      <td>course</td>\n",
              "      <td>mother</td>\n",
              "      <td>2</td>\n",
              "      <td>2</td>\n",
              "      <td>0</td>\n",
              "      <td>yes</td>\n",
              "      <td>no</td>\n",
              "      <td>no</td>\n",
              "      <td>no</td>\n",
              "      <td>yes</td>\n",
              "      <td>yes</td>\n",
              "      <td>no</td>\n",
              "      <td>no</td>\n",
              "      <td>4</td>\n",
              "      <td>3</td>\n",
              "      <td>4</td>\n",
              "      <td>1</td>\n",
              "      <td>1</td>\n",
              "      <td>3</td>\n",
              "      <td>6</td>\n",
              "      <td>no</td>\n",
              "    </tr>\n",
              "    <tr>\n",
              "      <th>1</th>\n",
              "      <td>GP</td>\n",
              "      <td>F</td>\n",
              "      <td>17</td>\n",
              "      <td>U</td>\n",
              "      <td>GT3</td>\n",
              "      <td>T</td>\n",
              "      <td>1</td>\n",
              "      <td>1</td>\n",
              "      <td>at_home</td>\n",
              "      <td>other</td>\n",
              "      <td>course</td>\n",
              "      <td>father</td>\n",
              "      <td>1</td>\n",
              "      <td>2</td>\n",
              "      <td>0</td>\n",
              "      <td>no</td>\n",
              "      <td>yes</td>\n",
              "      <td>no</td>\n",
              "      <td>no</td>\n",
              "      <td>no</td>\n",
              "      <td>yes</td>\n",
              "      <td>yes</td>\n",
              "      <td>no</td>\n",
              "      <td>5</td>\n",
              "      <td>3</td>\n",
              "      <td>3</td>\n",
              "      <td>1</td>\n",
              "      <td>1</td>\n",
              "      <td>3</td>\n",
              "      <td>4</td>\n",
              "      <td>no</td>\n",
              "    </tr>\n",
              "    <tr>\n",
              "      <th>2</th>\n",
              "      <td>GP</td>\n",
              "      <td>F</td>\n",
              "      <td>15</td>\n",
              "      <td>U</td>\n",
              "      <td>LE3</td>\n",
              "      <td>T</td>\n",
              "      <td>1</td>\n",
              "      <td>1</td>\n",
              "      <td>at_home</td>\n",
              "      <td>other</td>\n",
              "      <td>other</td>\n",
              "      <td>mother</td>\n",
              "      <td>1</td>\n",
              "      <td>2</td>\n",
              "      <td>3</td>\n",
              "      <td>yes</td>\n",
              "      <td>no</td>\n",
              "      <td>yes</td>\n",
              "      <td>no</td>\n",
              "      <td>yes</td>\n",
              "      <td>yes</td>\n",
              "      <td>yes</td>\n",
              "      <td>no</td>\n",
              "      <td>4</td>\n",
              "      <td>3</td>\n",
              "      <td>2</td>\n",
              "      <td>2</td>\n",
              "      <td>3</td>\n",
              "      <td>3</td>\n",
              "      <td>10</td>\n",
              "      <td>yes</td>\n",
              "    </tr>\n",
              "    <tr>\n",
              "      <th>3</th>\n",
              "      <td>GP</td>\n",
              "      <td>F</td>\n",
              "      <td>15</td>\n",
              "      <td>U</td>\n",
              "      <td>GT3</td>\n",
              "      <td>T</td>\n",
              "      <td>4</td>\n",
              "      <td>2</td>\n",
              "      <td>health</td>\n",
              "      <td>services</td>\n",
              "      <td>home</td>\n",
              "      <td>mother</td>\n",
              "      <td>1</td>\n",
              "      <td>3</td>\n",
              "      <td>0</td>\n",
              "      <td>no</td>\n",
              "      <td>yes</td>\n",
              "      <td>yes</td>\n",
              "      <td>yes</td>\n",
              "      <td>yes</td>\n",
              "      <td>yes</td>\n",
              "      <td>yes</td>\n",
              "      <td>yes</td>\n",
              "      <td>3</td>\n",
              "      <td>2</td>\n",
              "      <td>2</td>\n",
              "      <td>1</td>\n",
              "      <td>1</td>\n",
              "      <td>5</td>\n",
              "      <td>2</td>\n",
              "      <td>yes</td>\n",
              "    </tr>\n",
              "    <tr>\n",
              "      <th>4</th>\n",
              "      <td>GP</td>\n",
              "      <td>F</td>\n",
              "      <td>16</td>\n",
              "      <td>U</td>\n",
              "      <td>GT3</td>\n",
              "      <td>T</td>\n",
              "      <td>3</td>\n",
              "      <td>3</td>\n",
              "      <td>other</td>\n",
              "      <td>other</td>\n",
              "      <td>home</td>\n",
              "      <td>father</td>\n",
              "      <td>1</td>\n",
              "      <td>2</td>\n",
              "      <td>0</td>\n",
              "      <td>no</td>\n",
              "      <td>yes</td>\n",
              "      <td>yes</td>\n",
              "      <td>no</td>\n",
              "      <td>yes</td>\n",
              "      <td>yes</td>\n",
              "      <td>no</td>\n",
              "      <td>no</td>\n",
              "      <td>4</td>\n",
              "      <td>3</td>\n",
              "      <td>2</td>\n",
              "      <td>1</td>\n",
              "      <td>2</td>\n",
              "      <td>5</td>\n",
              "      <td>4</td>\n",
              "      <td>yes</td>\n",
              "    </tr>\n",
              "  </tbody>\n",
              "</table>\n",
              "</div>"
            ],
            "text/plain": [
              "  school sex  age address famsize  ... Dalc  Walc  health absences passed\n",
              "0     GP   F   18       U     GT3  ...    1     1       3        6     no\n",
              "1     GP   F   17       U     GT3  ...    1     1       3        4     no\n",
              "2     GP   F   15       U     LE3  ...    2     3       3       10    yes\n",
              "3     GP   F   15       U     GT3  ...    1     1       5        2    yes\n",
              "4     GP   F   16       U     GT3  ...    1     2       5        4    yes\n",
              "\n",
              "[5 rows x 31 columns]"
            ]
          },
          "metadata": {
            "tags": []
          },
          "execution_count": 1
        }
      ]
    },
    {
      "cell_type": "markdown",
      "metadata": {
        "id": "ZIbEVuT-Q0D3",
        "colab_type": "text"
      },
      "source": [
        "Let's begin by investigating the dataset to determine how many students we have information on, and learn about the graduation rate among these students. In the code cell below, you will need to compute the following:\n",
        "- The total number of students, `n_students`.\n",
        "- The total number of features for each student, `n_features`.\n",
        "- The number of those students who passed, `n_passed`.\n",
        "- The number of those students who failed, `n_failed`.\n",
        "- The graduation rate of the class, `grad_rate`, in percent (%).\n"
      ]
    },
    {
      "cell_type": "code",
      "metadata": {
        "id": "4CR6Z1RbQ0D5",
        "colab_type": "code",
        "outputId": "67d3f0cc-427c-48a1-bca1-fbd49183de66",
        "colab": {
          "base_uri": "https://localhost:8080/",
          "height": 104
        }
      },
      "source": [
        "# Calculate number of students\n",
        "n_students = len(student_data.index)\n",
        "\n",
        "# Calculate number of features\n",
        "n_features = len(student_data.columns)\n",
        "\n",
        "# Calculate passing students\n",
        "n_passed = student_data[student_data['passed']=='yes'].shape[0]\n",
        "\n",
        "# Calculate failing students\n",
        "n_failed = student_data[student_data['passed']=='no'].shape[0]\n",
        "\n",
        "# Calculate graduation rate\n",
        "grad_rate = n_passed/n_students * 100\n",
        "\n",
        "# # Print the results\n",
        "print(\"Total number of students: {}\".format(n_students))\n",
        "print(\"Number of features: {}\".format(n_features))\n",
        "print( \"Number of students who passed: {}\".format(n_passed))\n",
        "print(\"Number of students who failed: {}\".format(n_failed))\n",
        "print(\"Graduation rate of the class: {:.2f}%\".format(grad_rate))"
      ],
      "execution_count": 0,
      "outputs": [
        {
          "output_type": "stream",
          "text": [
            "Total number of students: 395\n",
            "Number of features: 31\n",
            "Number of students who passed: 265\n",
            "Number of students who failed: 130\n",
            "Graduation rate of the class: 67.09%\n"
          ],
          "name": "stdout"
        }
      ]
    },
    {
      "cell_type": "markdown",
      "metadata": {
        "id": "X_694YDuQ0D9",
        "colab_type": "text"
      },
      "source": [
        "## Preparing the Data\n",
        "In this section, we will prepare the data for modeling, training and testing.\n",
        "\n",
        "### Identifing feature and target columns\n",
        "It is often the case that the data you obtain contains non-numeric features. This can be a problem, as most machine learning algorithms expect numeric data to perform computations with.\n",
        "\n",
        "Here we will split the data into target (`y_all`) and feature data (`X_all`)."
      ]
    },
    {
      "cell_type": "code",
      "metadata": {
        "id": "TQNMk1iHQ0D-",
        "colab_type": "code",
        "colab": {}
      },
      "source": [
        "# Separating the data into feature data and target data (X_all and y_all, respectively)\n",
        "X_all = student_data.drop('passed', axis=1)\n",
        "y_all = student_data['passed']"
      ],
      "execution_count": 0,
      "outputs": []
    },
    {
      "cell_type": "markdown",
      "metadata": {
        "id": "tcTjprs2Q0EE",
        "colab_type": "text"
      },
      "source": [
        "### Preprocess Feature Columns\n",
        "\n",
        "As you can see, there are several non-numeric columns that we need to convert! Many of them are simply `yes`/`no`, e.g. `internet`. These can be reasonably converted into `1`/`0` (binary) values.\n",
        "\n",
        "Other columns, like `Mjob` and `Fjob`, have more than two values, and are known as _categorical variables_. The recommended way to handle such a column is to create as many columns as possible values (e.g. `Fjob_teacher`, `Fjob_other`, `Fjob_services`, etc.), and assign a `1` to one of them and `0` to all others.\n",
        "\n",
        "These generated columns are sometimes called _dummy variables_, and we will use the [`pandas.get_dummies()`](http://pandas.pydata.org/pandas-docs/stable/generated/pandas.get_dummies.html?highlight=get_dummies#pandas.get_dummies) function to perform this transformation."
      ]
    },
    {
      "cell_type": "code",
      "metadata": {
        "id": "3HkQUVQTQ0EH",
        "colab_type": "code",
        "colab": {}
      },
      "source": [
        "def preprocess_features(X:pd.DataFrame):\n",
        "    '''\n",
        "    Preprocesses the student data and converts non-numeric binary variables into\n",
        "    binary (0/1) variables. Converts categorical variables into dummy variables.\n",
        "\n",
        "    Parameters\n",
        "    ----------\n",
        "      X: pd.DataFrame\n",
        "        DataFrame that contains the features with categorial variables\n",
        "\n",
        "    Returns\n",
        "    -------\n",
        "      output: pd.DataFrame\n",
        "        DataFrame with dummy variables\n",
        "    '''\n",
        "    \n",
        "    # Initialize new output DataFrame\n",
        "    output = pd.DataFrame(index=X.index)\n",
        "\n",
        "    # Investigate each feature column for the data\n",
        "    for col, col_data in X.iteritems():\n",
        "        \n",
        "        # If data type is non-numeric, replace all yes/no values with 1/0\n",
        "        if col_data.dtype == object:\n",
        "            col_data = col_data.replace(['yes', 'no'], [1, 0])\n",
        "\n",
        "        # If data type is categorical, convert to dummy variables\n",
        "        if col_data.dtype == object:\n",
        "            # Example: 'school' => 'school_GP' and 'school_MS'\n",
        "            col_data = pd.get_dummies(col_data, prefix=col)  \n",
        "        \n",
        "        # Collect the revised columns\n",
        "        output = output.join(col_data)\n",
        "    \n",
        "    return output\n",
        "\n",
        "X_all = preprocess_features(X_all)\n",
        "\n",
        "le = LabelEncoder().fit(['yes', 'no']) # Fit does nothing\n",
        "y_all = le.transform(y_all)"
      ],
      "execution_count": 0,
      "outputs": []
    },
    {
      "cell_type": "markdown",
      "metadata": {
        "id": "8l54GKLFQ0EM",
        "colab_type": "text"
      },
      "source": [
        "### Training and Testing Data Split\n",
        "So far, we have converted all _categorical_ features into numeric values. For the next step, we split the data (both features and corresponding labels) into training and test sets. In the following code cell below, we will implement the following:\n",
        "- Randomly shuffle and split the data (`X_all`, `y_all`) into training and testing subsets.\n",
        "  - Use 300 training points (approximately 75%) and 95 testing points (approximately 25%).\n",
        "  - Set a `random_state` for the functions.\n",
        "  - Store the results in `X_train`, `X_test`, `y_train`, and `y_test`."
      ]
    },
    {
      "cell_type": "code",
      "metadata": {
        "id": "us1taZAoQ0EO",
        "colab_type": "code",
        "outputId": "f9b2ff5a-482b-4113-d81e-99b09958049e",
        "colab": {
          "base_uri": "https://localhost:8080/",
          "height": 52
        }
      },
      "source": [
        "# Set the number of training points\n",
        "num_train = 300\n",
        "\n",
        "# Shuffle and split the dataset into the number of training and testing points above\n",
        "X_train, X_test, y_train, y_test = train_test_split(X_all, \n",
        "                                                    y_all,\n",
        "                                                    train_size=num_train,\n",
        "                                                    random_state=42)\n",
        "\n",
        "# Show the results of the split\n",
        "print(\"Training set has {} samples.\".format(X_train.shape[0]))\n",
        "print(\"Testing set has {} samples.\".format(X_test.shape[0]))"
      ],
      "execution_count": 0,
      "outputs": [
        {
          "output_type": "stream",
          "text": [
            "Training set has 300 samples.\n",
            "Testing set has 95 samples.\n"
          ],
          "name": "stdout"
        }
      ]
    },
    {
      "cell_type": "markdown",
      "metadata": {
        "id": "7h17b3LiQ0ES",
        "colab_type": "text"
      },
      "source": [
        "## Training and Evaluating Models\n",
        "In this section, we will choose 3 supervised learning models that are appropriate for this problem and available in `scikit-learn`.\n",
        "\n",
        "**The following supervised learning models are currently available in** [`scikit-learn`](http://scikit-learn.org/stable/supervised_learning.html):\n",
        "- Gaussian Naive Bayes (GaussianNB)\n",
        "- Decision Trees\n",
        "- Ensemble Methods (Bagging, AdaBoost, Random Forest, Gradient Boosting)\n",
        "- K-Nearest Neighbors (KNeighbors)\n",
        "- Stochastic Gradient Descent (SGDC)\n",
        "- Support Vector Machines (SVM)\n",
        "- Logistic Regression"
      ]
    },
    {
      "cell_type": "markdown",
      "metadata": {
        "id": "KqZj9VK5Q0ET",
        "colab_type": "text"
      },
      "source": [
        "### Question 2 - Model Application\n",
        "*List three supervised learning models that are appropriate for this problem. For each model chosen*\n",
        "- Describe one real-world application in industry where the model can be applied. *(You may need to do a small bit of research for this — give references!)* \n",
        "- What are the strengths of the model; when does it perform well? \n",
        "- What are the weaknesses of the model; when does it perform poorly?\n",
        "- What makes this model a good candidate for the problem, given what you know about the data?"
      ]
    },
    {
      "cell_type": "markdown",
      "metadata": {
        "id": "Dqy_hGcKQ0EU",
        "colab_type": "text"
      },
      "source": [
        "**Answer:** The models was chosen are: *Decision Trees*, *Random Forest* and *Support Vector Machines*.\n",
        "\n",
        "The *Decision Trees* could to use in such as assist in the allocation of newly received orders in a manufacturing network. While than *Random Forest* could be applied to industry is to take various product property variables and use a random forest to indicate potential customer interest and to fabric wines eith this properties. And finally, the *Support Vector Machines* could be used for Generalized predictive control(GPC), using SVM based GPC to control chaotic dynamics with useful parameters.\n",
        "\n",
        "> *Decision Trees*: the strengths of the models are, firstly, a perform very well in practice and also, they are robust to outliers, scalable, and able to naturally model non-linear decision boundaries thanks to their hierarchical structure. In compensation, the weaknesses are that individual trees proning to overfitting, but this can be alleviated by ensemble methods.\n",
        "\n",
        "> *SVM*: This machine learning algorithm facilitate modeling for data analysis through regression and classification. Also, It's fairly robust against overfitting, especially in high-dimensional space. In compensation, is more difficult to tune due to the importance of picking the right kernel, and don't scale well to larger datasets.\n",
        "\n",
        "> *Random Forest*: Similar the Decision Tress, but random forest model takes the average results for each decision tree, and therefore sophisticated predictive results.\n",
        "\n",
        "\n",
        "References: https://elitedatascience.com/machine-learning-algorithms#classification\n",
        "\n",
        "https://www.techopedia.com/how-might-companies-use-random-forest-models-for-predictions/7/32995\n",
        "\n",
        "\n",
        "\n"
      ]
    },
    {
      "cell_type": "markdown",
      "metadata": {
        "id": "3NDWZcqbQ0Ec",
        "colab_type": "text"
      },
      "source": [
        "### Model Performance Metrics\n",
        "We will now import the three supervised learning models of our choice. We will train and predict on each classifier for three different training set sizes: 100, 200, and 300. In the following code cell, we will implement the following:\n",
        "- Import the three supervised learning models you've discussed in the previous section.\n",
        "- Initialize the three models.\n",
        " - Use a `random_state` for each model, if provided.\n",
        " - **Note:** First we will use the default settings for each model and tune them further.\n",
        "- Create the different training set sizes to be used to train each model.\n",
        "- Fit each model with each training set size and make predictions on the test set (9 in total).\n",
        "- Use F<sub>1</sub> score to compare the results."
      ]
    },
    {
      "cell_type": "code",
      "metadata": {
        "id": "ivNdEfxyQ0Ee",
        "colab_type": "code",
        "colab": {}
      },
      "source": [
        "from sklearn.tree import DecisionTreeClassifier, plot_tree, export_graphviz\n",
        "from sklearn.svm import SVC\n",
        "from sklearn.ensemble import RandomForestClassifier\n",
        "from sklearn.model_selection import cross_validate\n",
        "\n",
        "# Initialize the three models\n",
        "tree = DecisionTreeClassifier(min_samples_split=0.05, random_state=42)\n",
        "svc = SVC(random_state=42)\n",
        "random_forest = RandomForestClassifier(random_state=42)\n",
        "\n",
        "# Set up the training set sizes\n",
        "X_train_100 = X_train[:100]\n",
        "y_train_100 = y_train[:100]\n",
        "\n",
        "X_train_200 = X_train[:200]\n",
        "y_train_200 = y_train[:200]\n",
        "\n",
        "X_train_300 = X_train[:300]\n",
        "y_train_300 = y_train[:300]\n",
        "\n",
        "model_set = [('DecisionTreeClassifier',tree),\n",
        "             ('SVC',svc),\n",
        "             ('RandomForestClassifier',random_forest)]\n",
        "\n",
        "train_set = [(X_train_100, y_train_100),\n",
        "             (X_train_200, y_train_200),\n",
        "             (X_train_300, y_train_300)]\n",
        "\n",
        "# Create a DataFrame to hold the results\n",
        "answer_df = pd.DataFrame(columns=['Training Set Size',\n",
        "                                  'Training Time',\n",
        "                                  'Prediction Time:',\n",
        "                                  'F1 Score(train)',\n",
        "                                  'F1 Score(test)'])\n",
        "\n",
        "# Iterate over the models\n",
        "for name, model in model_set:\n",
        "    # Iterate over the training sets\n",
        "    for X, y in train_set:\n",
        "        \n",
        "        size = len(y)\n",
        "        train_size = int(0.7 * size)\n",
        "\n",
        "        # Spliting data\n",
        "        X_train_set = X[:train_size]\n",
        "        y_train_set = y[:train_size]\n",
        "        X_test_set = X[train_size:]\n",
        "        y_test_set = y[train_size:]\n",
        "        \n",
        "        # Train the model\n",
        "        start = time()\n",
        "        model.fit(X_train_set, y_train_set)\n",
        "        end = time()\n",
        "        train_time = end - start\n",
        "        \n",
        "        # Make predictions \n",
        "        start = time()\n",
        "        predicted = model.predict(X_test_set)\n",
        "        end = time()\n",
        "        predict_time = end - start\n",
        "        \n",
        "        # Calculate the f1 score\n",
        "        f1_test_set = f1_score(y_test_set, predicted)\n",
        "        f1_train_set = f1_score(y_train_set, model.predict(X_train_set))\n",
        "        \n",
        "        answer = {'Training Set Size': size,\n",
        "                 'Training Time': train_time,\n",
        "                 'Prediction Time:': predict_time,\n",
        "                 'F1 Score(train)': f1_train_set,\n",
        "                 'F1 Score(test)': f1_test_set\n",
        "                 }\n",
        "        \n",
        "        answer_df = answer_df.append(answer, ignore_index=True)\n"
      ],
      "execution_count": 0,
      "outputs": []
    },
    {
      "cell_type": "markdown",
      "metadata": {
        "id": "RRw5wOxvQ0Ej",
        "colab_type": "text"
      },
      "source": [
        "#### Tabular Results\n",
        "\n",
        "Here we show the results from the test, with `Training Set Size`, `Training Time`, `Prediction Time`, `F1 Score(train)` and `F1 Score(test)`. With so, we can compare the 3 chosen models."
      ]
    },
    {
      "cell_type": "code",
      "metadata": {
        "id": "a-kopXxxQ0Ek",
        "colab_type": "code",
        "outputId": "5b96a050-fb53-41e2-c068-650579c51da6",
        "colab": {
          "base_uri": "https://localhost:8080/",
          "height": 161
        }
      },
      "source": [
        "print(model_set[0][0])\n",
        "answer_df[0:3]"
      ],
      "execution_count": 0,
      "outputs": [
        {
          "output_type": "stream",
          "text": [
            "DecisionTreeClassifier\n"
          ],
          "name": "stdout"
        },
        {
          "output_type": "execute_result",
          "data": {
            "text/html": [
              "<div>\n",
              "<style scoped>\n",
              "    .dataframe tbody tr th:only-of-type {\n",
              "        vertical-align: middle;\n",
              "    }\n",
              "\n",
              "    .dataframe tbody tr th {\n",
              "        vertical-align: top;\n",
              "    }\n",
              "\n",
              "    .dataframe thead th {\n",
              "        text-align: right;\n",
              "    }\n",
              "</style>\n",
              "<table border=\"1\" class=\"dataframe\">\n",
              "  <thead>\n",
              "    <tr style=\"text-align: right;\">\n",
              "      <th></th>\n",
              "      <th>Training Set Size</th>\n",
              "      <th>Training Time</th>\n",
              "      <th>Prediction Time:</th>\n",
              "      <th>F1 Score(train)</th>\n",
              "      <th>F1 Score(test)</th>\n",
              "    </tr>\n",
              "  </thead>\n",
              "  <tbody>\n",
              "    <tr>\n",
              "      <th>0</th>\n",
              "      <td>100.0</td>\n",
              "      <td>0.002052</td>\n",
              "      <td>0.001208</td>\n",
              "      <td>0.966292</td>\n",
              "      <td>0.717949</td>\n",
              "    </tr>\n",
              "    <tr>\n",
              "      <th>1</th>\n",
              "      <td>200.0</td>\n",
              "      <td>0.002061</td>\n",
              "      <td>0.001167</td>\n",
              "      <td>0.952880</td>\n",
              "      <td>0.795455</td>\n",
              "    </tr>\n",
              "    <tr>\n",
              "      <th>2</th>\n",
              "      <td>300.0</td>\n",
              "      <td>0.002529</td>\n",
              "      <td>0.000787</td>\n",
              "      <td>0.916667</td>\n",
              "      <td>0.739496</td>\n",
              "    </tr>\n",
              "  </tbody>\n",
              "</table>\n",
              "</div>"
            ],
            "text/plain": [
              "   Training Set Size  Training Time  ...  F1 Score(train)  F1 Score(test)\n",
              "0              100.0       0.002052  ...         0.966292        0.717949\n",
              "1              200.0       0.002061  ...         0.952880        0.795455\n",
              "2              300.0       0.002529  ...         0.916667        0.739496\n",
              "\n",
              "[3 rows x 5 columns]"
            ]
          },
          "metadata": {
            "tags": []
          },
          "execution_count": 7
        }
      ]
    },
    {
      "cell_type": "code",
      "metadata": {
        "id": "PCtz54T3Q0Eo",
        "colab_type": "code",
        "outputId": "4379ad6e-3331-4405-a8cd-2053dc6358b5",
        "colab": {
          "base_uri": "https://localhost:8080/",
          "height": 161
        }
      },
      "source": [
        "print(model_set[1][0])\n",
        "answer_df[3:6]"
      ],
      "execution_count": 0,
      "outputs": [
        {
          "output_type": "stream",
          "text": [
            "SVC\n"
          ],
          "name": "stdout"
        },
        {
          "output_type": "execute_result",
          "data": {
            "text/html": [
              "<div>\n",
              "<style scoped>\n",
              "    .dataframe tbody tr th:only-of-type {\n",
              "        vertical-align: middle;\n",
              "    }\n",
              "\n",
              "    .dataframe tbody tr th {\n",
              "        vertical-align: top;\n",
              "    }\n",
              "\n",
              "    .dataframe thead th {\n",
              "        text-align: right;\n",
              "    }\n",
              "</style>\n",
              "<table border=\"1\" class=\"dataframe\">\n",
              "  <thead>\n",
              "    <tr style=\"text-align: right;\">\n",
              "      <th></th>\n",
              "      <th>Training Set Size</th>\n",
              "      <th>Training Time</th>\n",
              "      <th>Prediction Time:</th>\n",
              "      <th>F1 Score(train)</th>\n",
              "      <th>F1 Score(test)</th>\n",
              "    </tr>\n",
              "  </thead>\n",
              "  <tbody>\n",
              "    <tr>\n",
              "      <th>3</th>\n",
              "      <td>100.0</td>\n",
              "      <td>0.001923</td>\n",
              "      <td>0.000978</td>\n",
              "      <td>0.800000</td>\n",
              "      <td>0.755556</td>\n",
              "    </tr>\n",
              "    <tr>\n",
              "      <th>4</th>\n",
              "      <td>200.0</td>\n",
              "      <td>0.003097</td>\n",
              "      <td>0.001313</td>\n",
              "      <td>0.820961</td>\n",
              "      <td>0.823529</td>\n",
              "    </tr>\n",
              "    <tr>\n",
              "      <th>5</th>\n",
              "      <td>300.0</td>\n",
              "      <td>0.005551</td>\n",
              "      <td>0.002071</td>\n",
              "      <td>0.813559</td>\n",
              "      <td>0.807947</td>\n",
              "    </tr>\n",
              "  </tbody>\n",
              "</table>\n",
              "</div>"
            ],
            "text/plain": [
              "   Training Set Size  Training Time  ...  F1 Score(train)  F1 Score(test)\n",
              "3              100.0       0.001923  ...         0.800000        0.755556\n",
              "4              200.0       0.003097  ...         0.820961        0.823529\n",
              "5              300.0       0.005551  ...         0.813559        0.807947\n",
              "\n",
              "[3 rows x 5 columns]"
            ]
          },
          "metadata": {
            "tags": []
          },
          "execution_count": 8
        }
      ]
    },
    {
      "cell_type": "code",
      "metadata": {
        "id": "Pl9JgofAQ0Er",
        "colab_type": "code",
        "outputId": "f0a7ce49-aab7-478d-c18b-19dc297c1a6a",
        "colab": {
          "base_uri": "https://localhost:8080/",
          "height": 161
        }
      },
      "source": [
        "print(model_set[2][0])\n",
        "answer_df[6:9]"
      ],
      "execution_count": 0,
      "outputs": [
        {
          "output_type": "stream",
          "text": [
            "RandomForestClassifier\n"
          ],
          "name": "stdout"
        },
        {
          "output_type": "execute_result",
          "data": {
            "text/html": [
              "<div>\n",
              "<style scoped>\n",
              "    .dataframe tbody tr th:only-of-type {\n",
              "        vertical-align: middle;\n",
              "    }\n",
              "\n",
              "    .dataframe tbody tr th {\n",
              "        vertical-align: top;\n",
              "    }\n",
              "\n",
              "    .dataframe thead th {\n",
              "        text-align: right;\n",
              "    }\n",
              "</style>\n",
              "<table border=\"1\" class=\"dataframe\">\n",
              "  <thead>\n",
              "    <tr style=\"text-align: right;\">\n",
              "      <th></th>\n",
              "      <th>Training Set Size</th>\n",
              "      <th>Training Time</th>\n",
              "      <th>Prediction Time:</th>\n",
              "      <th>F1 Score(train)</th>\n",
              "      <th>F1 Score(test)</th>\n",
              "    </tr>\n",
              "  </thead>\n",
              "  <tbody>\n",
              "    <tr>\n",
              "      <th>6</th>\n",
              "      <td>100.0</td>\n",
              "      <td>0.134232</td>\n",
              "      <td>0.009470</td>\n",
              "      <td>1.0</td>\n",
              "      <td>0.75</td>\n",
              "    </tr>\n",
              "    <tr>\n",
              "      <th>7</th>\n",
              "      <td>200.0</td>\n",
              "      <td>0.142197</td>\n",
              "      <td>0.010276</td>\n",
              "      <td>1.0</td>\n",
              "      <td>0.84</td>\n",
              "    </tr>\n",
              "    <tr>\n",
              "      <th>8</th>\n",
              "      <td>300.0</td>\n",
              "      <td>0.141716</td>\n",
              "      <td>0.009668</td>\n",
              "      <td>1.0</td>\n",
              "      <td>0.80</td>\n",
              "    </tr>\n",
              "  </tbody>\n",
              "</table>\n",
              "</div>"
            ],
            "text/plain": [
              "   Training Set Size  Training Time  ...  F1 Score(train)  F1 Score(test)\n",
              "6              100.0       0.134232  ...              1.0            0.75\n",
              "7              200.0       0.142197  ...              1.0            0.84\n",
              "8              300.0       0.141716  ...              1.0            0.80\n",
              "\n",
              "[3 rows x 5 columns]"
            ]
          },
          "metadata": {
            "tags": []
          },
          "execution_count": 9
        }
      ]
    },
    {
      "cell_type": "markdown",
      "metadata": {
        "id": "zBhZ8mNLmuet",
        "colab_type": "text"
      },
      "source": [
        "Looking carefully to our table results, we can see that probably we have an overfitting with Decision Tree and Random Forest models, once we have very different results between train score and test score."
      ]
    },
    {
      "cell_type": "markdown",
      "metadata": {
        "id": "K49qH-ltQ0Ex",
        "colab_type": "text"
      },
      "source": [
        "## Cross Validation Tests\n"
      ]
    },
    {
      "cell_type": "markdown",
      "metadata": {
        "id": "C43Yixuz_ulp",
        "colab_type": "text"
      },
      "source": [
        "### Presentation functions\n",
        "Tests that will be performed in this notebook will be presented using [`matplotlib.pyplot`](https://matplotlib.org/api/index.html). With the purpouse of reducing redundant code, some functions will be declared below."
      ]
    },
    {
      "cell_type": "code",
      "metadata": {
        "id": "ll1Zoau5BEwV",
        "colab_type": "code",
        "colab": {}
      },
      "source": [
        "import matplotlib.pyplot as plt\n",
        "\n",
        "def show_results(cv_results:dict):\n",
        "    \"\"\"\n",
        "    Show the results of cross validation tests\n",
        "    \n",
        "    Parameters\n",
        "    ----------\n",
        "        cv_results: dict\n",
        "            It's the returning dictionarie from `cross_validate` function\n",
        "    \"\"\"\n",
        "    fig = plt.figure(facecolor='w',\n",
        "                     figsize=(15,3), \n",
        "                     tight_layout=True)\n",
        "    # Test score\n",
        "    ax1 = fig.add_subplot(131)\n",
        "    ax1.hist(cv_results['test_score'], 10, range=(0,1))\n",
        "    ax1.set_title('Test Score')\n",
        "    ax1.set_xlim(left=0, right=1)\n",
        "    \n",
        "    # Score time\n",
        "    ax2 = fig.add_subplot(132)\n",
        "    ax2.hist(cv_results['score_time'], 10)\n",
        "    ax2.set_title('Score time')\n",
        "    ax2.set_xlabel('Time [s]')\n",
        "    ax2.set_xlim(left=0)\n",
        "    \n",
        "    # Fit time\n",
        "    ax3 = fig.add_subplot(133)\n",
        "    ax3.hist(cv_results['fit_time'], 10)\n",
        "    ax3.set_title('Fit time')\n",
        "    ax3.set_xlabel('Time [s]')\n",
        "    ax3.set_xlim(left=0)\n",
        "    \n",
        "    return fig, ax1, ax2, ax3\n",
        "\n",
        "def compare_results(cv1, cv2, cv1_name='classifier_1', cv2_name='classifier_2'):\n",
        "    \"\"\"\n",
        "    Compare the results between the two cross validation tests. It shows a \n",
        "    figure with two histogram representing the scores made by cross validation \n",
        "    and a table with mean score, standard deviation score, mean fit time and\n",
        "    mean score time from both classifiers.\n",
        "\n",
        "    Parameters\n",
        "    ----------\n",
        "      cv1: dict\n",
        "        Dictonaire returned by `cross_validate` function.\n",
        "      \n",
        "      cv2: dict\n",
        "        Dictonaire returned by `cross_validate` function.\n",
        "      \n",
        "      cv1_name: str, default='classifier_1'\n",
        "        The name of the first model. It's used to identify the results.\n",
        "      \n",
        "      cv2_name: str, default='classifier_2'\n",
        "        The name of the second model. It's used to identify the results.\n",
        "\n",
        "    \"\"\"\n",
        "    \n",
        "    score1 = cv1['test_score']\n",
        "    score2 = cv2['test_score']\n",
        "    \n",
        "    fit_time1 = cv1['fit_time']\n",
        "    fit_time2 = cv2['fit_time']\n",
        "    \n",
        "    score_time1 = cv1['score_time']\n",
        "    score_time2 = cv2['score_time']\n",
        "    \n",
        "    fig = plt.figure(facecolor='w',\n",
        "                     figsize=(10,7), \n",
        "                     tight_layout=True)\n",
        "    ax1 = fig.add_subplot()\n",
        "    ax1.hist(score1, bins=30, color='g', label=cv1_name, alpha=0.6, range=(0,1))\n",
        "    ax1.hist(score2, bins=30, color='b', label=cv2_name, alpha=0.45, range=(0,1))\n",
        "\n",
        "    # Get some score stats\n",
        "    mean_score_1 = score1.mean()\n",
        "    mean_score_2 = score2.mean()\n",
        "    standard_deviation_1 =score1.std()\n",
        "    standard_deviation_2 =score2.std()\n",
        "    \n",
        "    # Get some fit time stats\n",
        "    mean_fit_time_1 = fit_time1.mean()\n",
        "    mean_fit_time_2 = fit_time2.mean()\n",
        "    \n",
        "    # Get some score time stats\n",
        "    mean_score_time_1 = score_time1.mean()\n",
        "    mean_score_time_2 = score_time2.mean()\n",
        "    \n",
        "    # Appearance settings\n",
        "    ax1.legend(loc=3)\n",
        "    ax1.set_title('Comparing results', fontsize=20)\n",
        "    ax1.set_xlabel('Performace', fontsize=15)\n",
        "    ax1.set_xlim(left=0, right=1)\n",
        "    ax1.tick_params(labelsize=12)\n",
        "    \n",
        "    # Add the stats to the figure\n",
        "    data = [[mean_score_1, mean_score_2],\n",
        "            [standard_deviation_1, standard_deviation_2],\n",
        "            [mean_fit_time_1, mean_fit_time_2],\n",
        "            [mean_score_time_1, mean_score_time_2]]\n",
        "   \n",
        "    table = ax1.table(cellText=np.round(data, 5),\n",
        "                      rowLabels=['Mean Score', \n",
        "                                 'Standard Deviation',\n",
        "                                 'Mean Fit Time [s]',\n",
        "                                 'Mean Score Time [s]'],\n",
        "                      colLabels=[cv1_name, cv2_name],\n",
        "                      loc=8)\n",
        "    # Table appearance\n",
        "    table.auto_set_font_size(False)\n",
        "    table.set_fontsize(11)\n",
        "    table.auto_set_column_width([0,1])\n"
      ],
      "execution_count": 0,
      "outputs": []
    },
    {
      "cell_type": "markdown",
      "metadata": {
        "id": "sACMbqtgFAEw",
        "colab_type": "text"
      },
      "source": [
        "### Cross Validation Application\n",
        "\n",
        "The metric used in cross validation is F<sub>1</sub> score, with a spliter of 25. The value is high to generate representative results to plot."
      ]
    },
    {
      "cell_type": "code",
      "metadata": {
        "id": "Sg-YO8wmQ0E1",
        "colab_type": "code",
        "outputId": "8d6d232e-b7eb-4d90-b08f-b21edee22817",
        "colab": {
          "base_uri": "https://localhost:8080/",
          "height": 710
        }
      },
      "source": [
        "# Cross validation variables\n",
        "cv_spliter = 10\n",
        "scoring= 'f1'\n",
        "\n",
        "# Cross validating\n",
        "tree_cv_results = cross_validate(tree,\n",
        "                                 X_train, y_train,\n",
        "                                 scoring=scoring,\n",
        "                                 cv=cv_spliter)\n",
        "\n",
        "svc_cv_results = cross_validate(svc,\n",
        "                                X_train, y_train,\n",
        "                                scoring=scoring,\n",
        "                                cv=cv_spliter)\n",
        "\n",
        "random_forest_cv_results = cross_validate(random_forest,\n",
        "                                          X_train, y_train,\n",
        "                                          scoring=scoring,\n",
        "                                          cv=cv_spliter)\n",
        "\n",
        "# Show Results\n",
        "show_results(tree_cv_results)\n",
        "show_results(svc_cv_results)\n",
        "show_results(random_forest_cv_results)"
      ],
      "execution_count": 0,
      "outputs": [
        {
          "output_type": "execute_result",
          "data": {
            "text/plain": [
              "(<Figure size 1080x216 with 3 Axes>,\n",
              " <matplotlib.axes._subplots.AxesSubplot at 0x7ff2010916a0>,\n",
              " <matplotlib.axes._subplots.AxesSubplot at 0x7ff2010ad518>,\n",
              " <matplotlib.axes._subplots.AxesSubplot at 0x7ff200ffca20>)"
            ]
          },
          "metadata": {
            "tags": []
          },
          "execution_count": 11
        },
        {
          "output_type": "display_data",
          "data": {
            "image/png": "[encoded data removed]",
            "text/plain": [
              "<Figure size 1080x216 with 3 Axes>"
            ]
          },
          "metadata": {
            "tags": []
          }
        },
        {
          "output_type": "display_data",
          "data": {
            "image/png": "[encoded data removed]",
            "text/plain": [
              "<Figure size 1080x216 with 3 Axes>"
            ]
          },
          "metadata": {
            "tags": []
          }
        },
        {
          "output_type": "display_data",
          "data": {
            "image/png": "[encoded data removed]",
            "text/plain": [
              "<Figure size 1080x216 with 3 Axes>"
            ]
          },
          "metadata": {
            "tags": []
          }
        }
      ]
    },
    {
      "cell_type": "markdown",
      "metadata": {
        "id": "Ni355BAeQ0E6",
        "colab_type": "text"
      },
      "source": [
        "### Question 3 - Choosing the Best Model\n",
        "*Based on the experiments you performed earlier, in one to two paragraphs, explain to the board of supervisors what single model you chose as the best model. Which model is generally the most appropriate based on the available data, limited resources, cost, and performance?*"
      ]
    },
    {
      "cell_type": "markdown",
      "metadata": {
        "id": "vPTzXywgdV8i",
        "colab_type": "text"
      },
      "source": [
        "**Answer**: Before using GridSearch and with default parameters, the SVC showed better results, with similar results in F<sub>1</sub> score  between train and test data. The other models used, otherwise, clearly presented overfitting, with a huge difference in F<sub>1</sub> score between train and test data.\n",
        "\n",
        "Because of it, we will try to tune all the models to solve the problem of overfitting and compare the results again."
      ]
    },
    {
      "cell_type": "markdown",
      "metadata": {
        "id": "zrJ_QzI2Q0E7",
        "colab_type": "text"
      },
      "source": [
        "## Choosing the Best Model\n",
        "In this final section, we will perform a grid search optimization for all the models over the entire training set (`X_train` and `y_train`) by tuning at least one parameter to improve upon the untuned model's F<sub>1</sub> score. "
      ]
    },
    {
      "cell_type": "code",
      "metadata": {
        "id": "XQHXBHSDQ0E8",
        "colab_type": "code",
        "colab": {}
      },
      "source": [
        "from sklearn.model_selection import GridSearchCV\n",
        "\n",
        "# Parameters for grid search\n",
        "param_tree = {'criterion':('gini', 'entropy'),\n",
        "              'max_depth':list(range(1,20,2)),\n",
        "              'min_samples_split':list(range(3,50,5)),\n",
        "              'max_features':('auto', 'sqrt', 'log2')}\n",
        "\n",
        "param_svc = {'kernel':('linear', 'poly', 'rbf', 'sigmoid'),\n",
        "             'shrinking':(True, False)} \n",
        "\n",
        "param_random_forest = {'n_estimators': list(range(5,50,10)),\n",
        "                      'criterion': ('gini', 'entropy'),\n",
        "                      'random_state': [42]} \n",
        "\n",
        "# Call GridSearchCV for all models\n",
        "search_tree = GridSearchCV(tree, \n",
        "                           param_grid=param_tree,\n",
        "                           cv=cv_spliter)\n",
        "\n",
        "search_svc = GridSearchCV(svc,\n",
        "                          param_grid=param_svc)\n",
        "\n",
        "search_random_forest = GridSearchCV(random_forest,\n",
        "                                    param_grid=param_random_forest,\n",
        "                                    cv=cv_spliter)\n",
        "\n",
        "# Finding the model with the best set of parameters\n",
        "best_tree = search_tree.fit(X_train, y_train).best_estimator_\n",
        "best_svc = search_svc.fit(X_train, y_train).best_estimator_\n",
        "best_random_forest = search_random_forest.fit(X_train, y_train).best_estimator_\n",
        "\n",
        "# Make cross validade with the best models\n",
        "best_tree_cv_results = cross_validate(best_tree,\n",
        "                                      X_train, y_train,\n",
        "                                      scoring=scoring,\n",
        "                                      cv=cv_spliter)\n",
        "\n",
        "best_svc_cv_results = cross_validate(best_svc,\n",
        "                                     X_train, y_train,\n",
        "                                     scoring=scoring,\n",
        "                                     cv=cv_spliter)\n",
        "\n",
        "best_random_forest_cv_results = cross_validate(best_random_forest,\n",
        "                                               X_train, y_train,\n",
        "                                               scoring=scoring,\n",
        "                                               cv=cv_spliter)\n"
      ],
      "execution_count": 0,
      "outputs": []
    },
    {
      "cell_type": "code",
      "metadata": {
        "id": "XZ-8HFn-Q0FB",
        "colab_type": "code",
        "outputId": "45e242bd-2eac-49b9-8458-2f16cb625609",
        "colab": {
          "base_uri": "https://localhost:8080/",
          "height": 1000
        }
      },
      "source": [
        "compare_results(cv1=tree_cv_results,\n",
        "                cv2=best_tree_cv_results,\n",
        "                cv1_name='Decision Tree',\n",
        "                cv2_name='GridSearched Decision Tree')\n",
        "\n",
        "compare_results(cv1=svc_cv_results,\n",
        "                cv2=best_svc_cv_results,\n",
        "                cv1_name='Support Vector Classification',\n",
        "                cv2_name='GridSearched SVC')\n",
        "\n",
        "compare_results(cv1=random_forest_cv_results,\n",
        "                cv2=best_random_forest_cv_results,\n",
        "                cv1_name='Random Forest',\n",
        "                cv2_name='GridSearched Random forest')"
      ],
      "execution_count": 0,
      "outputs": [
        {
          "output_type": "display_data",
          "data": {
            "image/png": "[encoded data removed]",
            "text/plain": [
              "<Figure size 720x504 with 1 Axes>"
            ]
          },
          "metadata": {
            "tags": []
          }
        },
        {
          "output_type": "display_data",
          "data": {
            "image/png": "[encoded data removed]",
            "text/plain": [
              "<Figure size 720x504 with 1 Axes>"
            ]
          },
          "metadata": {
            "tags": []
          }
        },
        {
          "output_type": "display_data",
          "data": {
            "image/png": "[encoded data removed]",
            "text/plain": [
              "<Figure size 720x504 with 1 Axes>"
            ]
          },
          "metadata": {
            "tags": []
          }
        }
      ]
    },
    {
      "cell_type": "markdown",
      "metadata": {
        "id": "TN2guYYhw02m",
        "colab_type": "text"
      },
      "source": [
        "From charts, we can see that Random Forest has the best score, so we will test on the training data to see if the model is overfitting again."
      ]
    },
    {
      "cell_type": "code",
      "metadata": {
        "id": "k4f2Jtgiw0GN",
        "colab_type": "code",
        "outputId": "d9042bab-55e0-4ae2-c867-09d4b11ee0de",
        "colab": {
          "base_uri": "https://localhost:8080/",
          "height": 34
        }
      },
      "source": [
        "predicted = best_random_forest.predict(X_train)\n",
        "f1_score(y_true=y_train,\n",
        "         y_pred=predicted)"
      ],
      "execution_count": 0,
      "outputs": [
        {
          "output_type": "execute_result",
          "data": {
            "text/plain": [
              "1.0"
            ]
          },
          "metadata": {
            "tags": []
          },
          "execution_count": 14
        }
      ]
    },
    {
      "cell_type": "code",
      "metadata": {
        "id": "usd-nyifya-O",
        "colab_type": "code",
        "outputId": "89316df9-01b2-4ef7-fef3-d99d2c4510cc",
        "colab": {
          "base_uri": "https://localhost:8080/",
          "height": 34
        }
      },
      "source": [
        "predicted = best_tree.predict(X_train)\n",
        "f1_score(y_true=y_train,\n",
        "         y_pred=predicted)"
      ],
      "execution_count": 0,
      "outputs": [
        {
          "output_type": "execute_result",
          "data": {
            "text/plain": [
              "0.8387096774193549"
            ]
          },
          "metadata": {
            "tags": []
          },
          "execution_count": 15
        }
      ]
    },
    {
      "cell_type": "code",
      "metadata": {
        "id": "dVImMJDtygW9",
        "colab_type": "code",
        "outputId": "36da204d-967c-48be-f852-3e9a63f0cdd3",
        "colab": {
          "base_uri": "https://localhost:8080/",
          "height": 34
        }
      },
      "source": [
        "predicted = best_svc.predict(X_train)\n",
        "f1_score(y_true=y_train,\n",
        "         y_pred=predicted)"
      ],
      "execution_count": 0,
      "outputs": [
        {
          "output_type": "execute_result",
          "data": {
            "text/plain": [
              "0.8316430020283976"
            ]
          },
          "metadata": {
            "tags": []
          },
          "execution_count": 16
        }
      ]
    },
    {
      "cell_type": "markdown",
      "metadata": {
        "id": "fDUS9reUQ0FH",
        "colab_type": "text"
      },
      "source": [
        "**Answer:** As we can see, the Random Forest model is overfitting the trainning data, so it isn't a good model to generalizate our data.\n",
        "\n",
        "Otherwise, Decision Tree and SVC have the results inside the expected range values obtained on cross validation test.\n",
        "\n",
        "Comparing the two results between Decision Tree and SVC, we have noticed similar results between the models, so we will decide for the simplest one, **Decision Tree**."
      ]
    },
    {
      "cell_type": "markdown",
      "metadata": {
        "id": "XSUg4yziQ0FI",
        "colab_type": "text"
      },
      "source": [
        "### Question 4 - Model in Layman's Terms\n",
        "*In one to two paragraphs, explain to the board of directors in layman's terms how the final model chosen is supposed to work. Be sure that you are describing the major qualities of the model, such as how the model is trained and how the model makes a prediction. Avoid using advanced mathematical or technical jargon, such as describing equations or discussing the algorithm implementation.*"
      ]
    },
    {
      "cell_type": "markdown",
      "metadata": {
        "id": "unY6d7qNQ0FJ",
        "colab_type": "text"
      },
      "source": [
        "**Answer:** The model will look for the most significant features that determines if a student will fail or pass and create branches that split the students into two groups according to his own characteristics.\n",
        "\n"
      ]
    },
    {
      "cell_type": "code",
      "metadata": {
        "id": "mH-Kd2ASN_YD",
        "colab_type": "code",
        "outputId": "66db9d47-1e36-4ec9-d9e3-9b4e5df15a77",
        "colab": {
          "base_uri": "https://localhost:8080/",
          "height": 357
        }
      },
      "source": [
        "import graphviz\n",
        "\n",
        "dot_data = export_graphviz(best_tree, max_depth=1,\n",
        "                           feature_names=X_all.columns,\n",
        "                           rounded=True, filled=True)\n",
        "graphviz.Source(dot_data)"
      ],
      "execution_count": 0,
      "outputs": [
        {
          "output_type": "execute_result",
          "data": {
            "text/plain": [
              "<graphviz.files.Source at 0x7ff1fdda3a20>"
            ],
            "image/svg+xml": "<?xml version=\"1.0\" encoding=\"UTF-8\" standalone=\"no\"?>\n<!DOCTYPE svg PUBLIC \"-//W3C//DTD SVG 1.1//EN\"\n \"http://www.w3.org/Graphics/SVG/1.1/DTD/svg11.dtd\">\n<!-- Generated by graphviz version 2.40.1 (20161225.0304)\n -->\n<!-- Title: Tree Pages: 1 -->\n<svg width=\"311pt\" height=\"252pt\"\n viewBox=\"0.00 0.00 311.00 252.00\" xmlns=\"http://www.w3.org/2000/svg\" xmlns:xlink=\"http://www.w3.org/1999/xlink\">\n<g id=\"graph0\" class=\"graph\" transform=\"scale(1 1) rotate(0) translate(4 248)\">\n<title>Tree</title>\n<polygon fill=\"#ffffff\" stroke=\"transparent\" points=\"-4,4 -4,-248 307,-248 307,4 -4,4\"/>\n<!-- 0 -->\n<g id=\"node1\" class=\"node\">\n<title>0</title>\n<path fill=\"#95caf1\" stroke=\"#000000\" d=\"M201,-244C201,-244 101,-244 101,-244 95,-244 89,-238 89,-232 89,-232 89,-188 89,-188 89,-182 95,-176 101,-176 101,-176 201,-176 201,-176 207,-176 213,-182 213,-188 213,-188 213,-232 213,-232 213,-238 207,-244 201,-244\"/>\n<text text-anchor=\"middle\" x=\"151\" y=\"-228.8\" font-family=\"Helvetica,sans-Serif\" font-size=\"14.00\" fill=\"#000000\">studytime &lt;= 2.5</text>\n<text text-anchor=\"middle\" x=\"151\" y=\"-213.8\" font-family=\"Helvetica,sans-Serif\" font-size=\"14.00\" fill=\"#000000\">gini = 0.433</text>\n<text text-anchor=\"middle\" x=\"151\" y=\"-198.8\" font-family=\"Helvetica,sans-Serif\" font-size=\"14.00\" fill=\"#000000\">samples = 300</text>\n<text text-anchor=\"middle\" x=\"151\" y=\"-183.8\" font-family=\"Helvetica,sans-Serif\" font-size=\"14.00\" fill=\"#000000\">value = [95, 205]</text>\n</g>\n<!-- 1 -->\n<g id=\"node2\" class=\"node\">\n<title>1</title>\n<path fill=\"#a1d1f3\" stroke=\"#000000\" d=\"M132,-140C132,-140 32,-140 32,-140 26,-140 20,-134 20,-128 20,-128 20,-84 20,-84 20,-78 26,-72 32,-72 32,-72 132,-72 132,-72 138,-72 144,-78 144,-84 144,-84 144,-128 144,-128 144,-134 138,-140 132,-140\"/>\n<text text-anchor=\"middle\" x=\"82\" y=\"-124.8\" font-family=\"Helvetica,sans-Serif\" font-size=\"14.00\" fill=\"#000000\">paid &lt;= 0.5</text>\n<text text-anchor=\"middle\" x=\"82\" y=\"-109.8\" font-family=\"Helvetica,sans-Serif\" font-size=\"14.00\" fill=\"#000000\">gini = 0.452</text>\n<text text-anchor=\"middle\" x=\"82\" y=\"-94.8\" font-family=\"Helvetica,sans-Serif\" font-size=\"14.00\" fill=\"#000000\">samples = 226</text>\n<text text-anchor=\"middle\" x=\"82\" y=\"-79.8\" font-family=\"Helvetica,sans-Serif\" font-size=\"14.00\" fill=\"#000000\">value = [78, 148]</text>\n</g>\n<!-- 0&#45;&gt;1 -->\n<g id=\"edge1\" class=\"edge\">\n<title>0&#45;&gt;1</title>\n<path fill=\"none\" stroke=\"#000000\" d=\"M128.4068,-175.9465C122.6286,-167.2373 116.3425,-157.7626 110.3166,-148.6801\"/>\n<polygon fill=\"#000000\" stroke=\"#000000\" points=\"113.089,-146.5278 104.6439,-140.13 107.256,-150.3978 113.089,-146.5278\"/>\n<text text-anchor=\"middle\" x=\"99.6866\" y=\"-160.9336\" font-family=\"Helvetica,sans-Serif\" font-size=\"14.00\" fill=\"#000000\">True</text>\n</g>\n<!-- 30 -->\n<g id=\"node5\" class=\"node\">\n<title>30</title>\n<path fill=\"#74baed\" stroke=\"#000000\" d=\"M266,-140C266,-140 174,-140 174,-140 168,-140 162,-134 162,-128 162,-128 162,-84 162,-84 162,-78 168,-72 174,-72 174,-72 266,-72 266,-72 272,-72 278,-78 278,-84 278,-84 278,-128 278,-128 278,-134 272,-140 266,-140\"/>\n<text text-anchor=\"middle\" x=\"220\" y=\"-124.8\" font-family=\"Helvetica,sans-Serif\" font-size=\"14.00\" fill=\"#000000\">goout &lt;= 3.5</text>\n<text text-anchor=\"middle\" x=\"220\" y=\"-109.8\" font-family=\"Helvetica,sans-Serif\" font-size=\"14.00\" fill=\"#000000\">gini = 0.354</text>\n<text text-anchor=\"middle\" x=\"220\" y=\"-94.8\" font-family=\"Helvetica,sans-Serif\" font-size=\"14.00\" fill=\"#000000\">samples = 74</text>\n<text text-anchor=\"middle\" x=\"220\" y=\"-79.8\" font-family=\"Helvetica,sans-Serif\" font-size=\"14.00\" fill=\"#000000\">value = [17, 57]</text>\n</g>\n<!-- 0&#45;&gt;30 -->\n<g id=\"edge4\" class=\"edge\">\n<title>0&#45;&gt;30</title>\n<path fill=\"none\" stroke=\"#000000\" d=\"M173.5932,-175.9465C179.3714,-167.2373 185.6575,-157.7626 191.6834,-148.6801\"/>\n<polygon fill=\"#000000\" stroke=\"#000000\" points=\"194.744,-150.3978 197.3561,-140.13 188.911,-146.5278 194.744,-150.3978\"/>\n<text text-anchor=\"middle\" x=\"202.3134\" y=\"-160.9336\" font-family=\"Helvetica,sans-Serif\" font-size=\"14.00\" fill=\"#000000\">False</text>\n</g>\n<!-- 2 -->\n<g id=\"node3\" class=\"node\">\n<title>2</title>\n<path fill=\"#c0c0c0\" stroke=\"#000000\" d=\"M42,-36C42,-36 12,-36 12,-36 6,-36 0,-30 0,-24 0,-24 0,-12 0,-12 0,-6 6,0 12,0 12,0 42,0 42,0 48,0 54,-6 54,-12 54,-12 54,-24 54,-24 54,-30 48,-36 42,-36\"/>\n<text text-anchor=\"middle\" x=\"27\" y=\"-14.3\" font-family=\"Helvetica,sans-Serif\" font-size=\"14.00\" fill=\"#000000\">(...)</text>\n</g>\n<!-- 1&#45;&gt;2 -->\n<g id=\"edge2\" class=\"edge\">\n<title>1&#45;&gt;2</title>\n<path fill=\"none\" stroke=\"#000000\" d=\"M60.7356,-71.9769C55.0819,-62.931 49.057,-53.2913 43.6866,-44.6986\"/>\n<polygon fill=\"#000000\" stroke=\"#000000\" points=\"46.638,-42.8169 38.37,-36.192 40.702,-46.527 46.638,-42.8169\"/>\n</g>\n<!-- 17 -->\n<g id=\"node4\" class=\"node\">\n<title>17</title>\n<path fill=\"#c0c0c0\" stroke=\"#000000\" d=\"M114,-36C114,-36 84,-36 84,-36 78,-36 72,-30 72,-24 72,-24 72,-12 72,-12 72,-6 78,0 84,0 84,0 114,0 114,0 120,0 126,-6 126,-12 126,-12 126,-24 126,-24 126,-30 120,-36 114,-36\"/>\n<text text-anchor=\"middle\" x=\"99\" y=\"-14.3\" font-family=\"Helvetica,sans-Serif\" font-size=\"14.00\" fill=\"#000000\">(...)</text>\n</g>\n<!-- 1&#45;&gt;17 -->\n<g id=\"edge3\" class=\"edge\">\n<title>1&#45;&gt;17</title>\n<path fill=\"none\" stroke=\"#000000\" d=\"M88.5726,-71.9769C90.2282,-63.4071 91.9867,-54.3043 93.5786,-46.0638\"/>\n<polygon fill=\"#000000\" stroke=\"#000000\" points=\"97.0253,-46.6743 95.4856,-36.192 90.1524,-45.3465 97.0253,-46.6743\"/>\n</g>\n<!-- 31 -->\n<g id=\"node6\" class=\"node\">\n<title>31</title>\n<path fill=\"#c0c0c0\" stroke=\"#000000\" d=\"M219,-36C219,-36 189,-36 189,-36 183,-36 177,-30 177,-24 177,-24 177,-12 177,-12 177,-6 183,0 189,0 189,0 219,0 219,0 225,0 231,-6 231,-12 231,-12 231,-24 231,-24 231,-30 225,-36 219,-36\"/>\n<text text-anchor=\"middle\" x=\"204\" y=\"-14.3\" font-family=\"Helvetica,sans-Serif\" font-size=\"14.00\" fill=\"#000000\">(...)</text>\n</g>\n<!-- 30&#45;&gt;31 -->\n<g id=\"edge5\" class=\"edge\">\n<title>30&#45;&gt;31</title>\n<path fill=\"none\" stroke=\"#000000\" d=\"M213.814,-71.9769C212.2558,-63.4071 210.6008,-54.3043 209.1025,-46.0638\"/>\n<polygon fill=\"#000000\" stroke=\"#000000\" points=\"212.5401,-45.4045 207.3076,-36.192 205.653,-46.6568 212.5401,-45.4045\"/>\n</g>\n<!-- 42 -->\n<g id=\"node7\" class=\"node\">\n<title>42</title>\n<path fill=\"#c0c0c0\" stroke=\"#000000\" d=\"M291,-36C291,-36 261,-36 261,-36 255,-36 249,-30 249,-24 249,-24 249,-12 249,-12 249,-6 255,0 261,0 261,0 291,0 291,0 297,0 303,-6 303,-12 303,-12 303,-24 303,-24 303,-30 297,-36 291,-36\"/>\n<text text-anchor=\"middle\" x=\"276\" y=\"-14.3\" font-family=\"Helvetica,sans-Serif\" font-size=\"14.00\" fill=\"#000000\">(...)</text>\n</g>\n<!-- 30&#45;&gt;42 -->\n<g id=\"edge6\" class=\"edge\">\n<title>30&#45;&gt;42</title>\n<path fill=\"none\" stroke=\"#000000\" d=\"M241.6511,-71.9769C247.4075,-62.931 253.5419,-53.2913 259.01,-44.6986\"/>\n<polygon fill=\"#000000\" stroke=\"#000000\" points=\"262.0073,-46.5077 264.4233,-36.192 256.1017,-42.7495 262.0073,-46.5077\"/>\n</g>\n</g>\n</svg>\n"
          },
          "metadata": {
            "tags": []
          },
          "execution_count": 17
        }
      ]
    },
    {
      "cell_type": "markdown",
      "metadata": {
        "id": "oZlzjzqHQ0FN",
        "colab_type": "text"
      },
      "source": [
        "### Question 5 - Final F<sub>1</sub> Score\n",
        "*What is the final model's F<sub>1</sub> score for training and testing? How does that score compare to the untuned model?*"
      ]
    },
    {
      "cell_type": "code",
      "metadata": {
        "id": "dXf-XyKGWftB",
        "colab_type": "code",
        "outputId": "5ac11452-8d7d-4cd5-8e6a-005735c390eb",
        "colab": {
          "base_uri": "https://localhost:8080/",
          "height": 34
        }
      },
      "source": [
        "predicted = best_tree.predict(X_test)\n",
        "final_score = f1_score(y_true=y_test,\n",
        "                       y_pred=predicted)\n",
        "\n",
        "print('Final F1 score: {}'.format(final_score))"
      ],
      "execution_count": 0,
      "outputs": [
        {
          "output_type": "stream",
          "text": [
            "Final F1 score: 0.7682119205298011\n"
          ],
          "name": "stdout"
        }
      ]
    },
    {
      "cell_type": "markdown",
      "metadata": {
        "id": "cddTC-eAQ0FP",
        "colab_type": "text"
      },
      "source": [
        "> **Note**: Once you have completed all of the code implementations and successfully answered each question above, you may finalize your work by exporting the iPython Notebook as an HTML document. You can do this by using the menu above and navigating to  \n",
        "**File -> Download as -> HTML (.html)**. Include the finished document along with this notebook as your submission."
      ]
    }
  ]
}